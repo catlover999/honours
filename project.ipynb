{
 "cells": [
  {
   "cell_type": "markdown",
   "metadata": {},
   "source": [
    "# Evaluation code for filter_dp"
   ]
  },
  {
   "cell_type": "code",
   "execution_count": null,
   "metadata": {},
   "outputs": [],
   "source": [
    "import pandas as pd\n",
    "import numpy as np\n",
    "import matplotlib.pyplot as plt"
   ]
  },
  {
   "cell_type": "markdown",
   "metadata": {},
   "source": [
    "### Load and clean datasets"
   ]
  },
  {
   "cell_type": "code",
   "execution_count": null,
   "metadata": {},
   "outputs": [],
   "source": [
    "# Load input datasets\n",
    "input_salaries = pd.read_csv('input/EmployeeSalaries.csv', names=[\"Department\",\"Department_Name\",\"Division\",\"Gender\",\"Base_Salary\",\"Overtime_Pay\",\"Longevity_Pay\",\"Grade\"])\n",
    "input_students = pd.read_csv('input/StudentsPerformance.csv', names=[\"gender\",\"race_ethnicity\",\"parental_education\",\"lunch\",\"test_preparation\",\"math_score\",\"reading_score\",\"writing_score\"])\n",
    "\n",
    "# Load output datasets\n",
    "output_salaries = pd.read_csv('output/EmployeeSalaries.perturbed.csv', names=[\"time\",\"Department\",\"Department_Name\",\"Division\",\"Gender\",\"Base_Salary\",\"Overtime_Pay\",\"Longevity_Pay\",\"Grade\"])\n",
    "output_students = pd.read_csv('output/StudentsPerformance.perturbed.csv', names=[\"time\",\"gender\",\"race_ethnicity\",\"parental_education\",\"lunch\",\"test_preparation\",\"math_score\",\"reading_score\",\"writing_score\"])\n",
    "\n",
    "# Remove the last line from the \"student\" input/output files as that's a control line\n",
    "input_students.drop(input_students.tail(1).index,inplace=True)\n",
    "output_students.drop(output_students.tail(1).index,inplace=True)"
   ]
  },
  {
   "cell_type": "markdown",
   "metadata": {},
   "source": [
    "### Sensitivty Calculations (used in creation of sample settings)"
   ]
  },
  {
   "cell_type": "code",
   "execution_count": null,
   "metadata": {},
   "outputs": [],
   "source": [
    "# The lower the c, the less outliers (notable out-of-range values) will be used \n",
    "def calculate_sensitivity(series, c=0.25):\n",
    "    return c * series.std()\n",
    "\n",
    "math_sensitivity = calculate_sensitivity(input_students['math_score'])\n",
    "reading_sensitivity = calculate_sensitivity(input_students['reading_score'])\n",
    "writing_sensitivity = calculate_sensitivity(input_students['writing_score'])\n",
    "print(f'Sensitivity of math_score: {math_sensitivity}')\n",
    "print(f'Sensitivity of reading_score: {reading_sensitivity}')\n",
    "print(f'Sensitivity of writing_score: {writing_sensitivity}')"
   ]
  },
  {
   "cell_type": "code",
   "execution_count": null,
   "metadata": {},
   "outputs": [],
   "source": [
    "# Salaries dataset analysis\n",
    "print(\"Salaries Dataset:\")\n",
    "print(\"Original Base_Salary - Mean: {:.2f}, Std: {:.2f}\".format(input_salaries['Base_Salary'].mean(), input_salaries['Base_Salary'].std()))\n",
    "print(\"Perturbed Base_Salary - Mean: {:.2f}, Std: {:.2f}\".format(output_salaries['Base_Salary'].mean(), output_salaries['Base_Salary'].std()))\n",
    "\n",
    "plt.figure(figsize=(8, 6))\n",
    "plt.hist(input_salaries['Base_Salary'], bins=250, alpha=0.5, label='Original')\n",
    "plt.hist(output_salaries['Base_Salary'], bins=250, alpha=0.5, label='Perturbed')\n",
    "plt.xlabel('Base_Salary')\n",
    "plt.ylabel('Frequency')\n",
    "plt.legend()\n",
    "plt.show()\n",
    "\n",
    "# Students dataset analysis\n",
    "print(\"Students Dataset:\")\n",
    "fig, axs = plt.subplots(2, 2, figsize=(12, 12))\n",
    "\n",
    "# Loop through each score to plot and print statistics\n",
    "scores = ['math_score', 'reading_score', 'writing_score']\n",
    "data = []\n",
    "\n",
    "for index, score in enumerate(scores):\n",
    "    row, col = index // 2, index % 2\n",
    "    # Calculate statistics\n",
    "    original_mean = input_students[score].mean()\n",
    "    original_std = input_students[score].std()\n",
    "    perturbed_mean = output_students[score].mean()\n",
    "    perturbed_std = output_students[score].std()\n",
    "    \n",
    "    # Prepare statistics for printing on the plot and in console\n",
    "    print(\"Original {} - Mean: {:.2f}, Std: {:.2f}\".format(score, original_mean, original_std))\n",
    "    print(\"Perturbed {} - Mean: {:.2f}, Std: {:.2f}\".format(score, perturbed_mean, perturbed_std))\n",
    "    \n",
    "    # Adding data for the table\n",
    "    data.append([score, f\"{original_mean:.2f}\", f\"{original_std:.2f}\", f\"{perturbed_mean:.2f}\", f\"{perturbed_std:.2f}\"])\n",
    "    \n",
    "    # Plotting the histogram for each score\n",
    "    axs[row, col].hist(input_students[score], bins=100, alpha=0.5, label='Original ' + score)\n",
    "    axs[row, col].hist(output_students[score], bins=100, alpha=0.5, label='Perturbed ' + score)\n",
    "    axs[row, col].set_title(score.capitalize())\n",
    "    axs[row, col].set_xlabel('Score')\n",
    "    axs[row, col].set_ylabel('Frequency')\n",
    "    axs[row, col].legend()\n",
    "\n",
    "# Use the last subplot to create a table\n",
    "axs[1, 1].axis('on')  # Turn on the axis\n",
    "axs[1, 1].axis('off')  # Turn off the axis lines and labels\n",
    "\n",
    "# Creating a table\n",
    "column_labels = [\"Score\", \"Original\\nMean\", \"Original\\nStd\", \"Perturbed\\nMean\", \"Perturbed\\nStd\"]\n",
    "table = axs[1, 1].table(cellText=data, colLabels=column_labels, loc='center', cellLoc='center')\n",
    "table.auto_set_font_size(False)\n",
    "table.set_fontsize(10)\n",
    "table.scale(1, 2)  # Scale table size to fit better\n",
    "\n",
    "plt.tight_layout()\n",
    "plt.show()"
   ]
  },
  {
   "cell_type": "code",
   "execution_count": null,
   "metadata": {},
   "outputs": [],
   "source": [
    "# Calculate the mean absolute error (MAE) for each perturbed attribute\n",
    "mae_base_salary = np.mean(np.abs(input_salaries['Base_Salary'] - output_salaries['Base_Salary']))\n",
    "mae_math_score = np.mean(np.abs(input_students['math_score'] - output_students['math_score']))\n",
    "mae_reading_score = np.mean(np.abs(input_students['reading_score'] - output_students['reading_score']))\n",
    "mae_writing_score = np.mean(np.abs(input_students['writing_score'] - output_students['writing_score']))\n",
    "\n",
    "print(f\"Mean Absolute Error (MAE) for Base_Salary: {mae_base_salary:.2f}\")\n",
    "print(f\"Mean Absolute Error (MAE) for math_score: {mae_math_score:.2f}\")  \n",
    "print(f\"Mean Absolute Error (MAE) for reading_score: {mae_reading_score:.2f}\")\n",
    "print(f\"Mean Absolute Error (MAE) for writing_score: {mae_writing_score:.2f}\")\n",
    "\n",
    "# Calculate the mean squared error (MSE) for each perturbed attribute\n",
    "mse_base_salary = np.mean((input_salaries['Base_Salary'] - output_salaries['Base_Salary'])**2)\n",
    "mse_math_score = np.mean((input_students['math_score'] - output_students['math_score'])**2)\n",
    "mse_reading_score = np.mean((input_students['reading_score'] - output_students['reading_score'])**2)  \n",
    "mse_writing_score = np.mean((input_students['writing_score'] - output_students['writing_score'])**2)\n",
    "\n",
    "print(f\"\\nMean Squared Error (MSE) for Base_Salary: {mse_base_salary:.2f}\")  \n",
    "print(f\"Mean Squared Error (MSE) for math_score: {mse_math_score:.2f}\")\n",
    "print(f\"Mean Squared Error (MSE) for reading_score: {mse_reading_score:.2f}\")\n",
    "print(f\"Mean Squared Error (MSE) for writing_score: {mse_writing_score:.2f}\")\n",
    "\n",
    "# Calculate the root mean squared error (RMSE) for each perturbed attribute  \n",
    "rmse_base_salary = np.sqrt(mse_base_salary)\n",
    "rmse_math_score = np.sqrt(mse_math_score)\n",
    "rmse_reading_score = np.sqrt(mse_reading_score)\n",
    "rmse_writing_score = np.sqrt(mse_writing_score)\n",
    "\n",
    "print(f\"\\nRoot Mean Squared Error (RMSE) for Base_Salary: {rmse_base_salary:.2f}\")\n",
    "print(f\"Root Mean Squared Error (RMSE) for math_score: {rmse_math_score:.2f}\") \n",
    "print(f\"Root Mean Squared Error (RMSE) for reading_score: {rmse_reading_score:.2f}\")\n",
    "print(f\"Root Mean Squared Error (RMSE) for writing_score: {rmse_writing_score:.2f}\")\n",
    "\n",
    "# Plot the distribution of errors for each perturbed attribute\n",
    "fig, axs = plt.subplots(2, 2, figsize=(12, 8))\n",
    "axs[0, 0].hist(input_salaries['Base_Salary'] - output_salaries['Base_Salary'], bins=250)  \n",
    "axs[0, 0].set_title('Error Distribution for Base_Salary')\n",
    "axs[0, 1].hist(input_students['math_score'] - output_students['math_score'], bins=50)\n",
    "axs[0, 1].set_title('Error Distribution for math_score')\n",
    "axs[1, 0].hist(input_students['reading_score'] - output_students['reading_score'], bins=50)  \n",
    "axs[1, 0].set_title('Error Distribution for reading_score')\n",
    "axs[1, 1].hist(input_students['writing_score'] - output_students['writing_score'], bins=50)\n",
    "axs[1, 1].set_title('Error Distribution for writing_score')\n",
    "plt.tight_layout()\n",
    "plt.show()"
   ]
  }
 ],
 "metadata": {
  "kernelspec": {
   "display_name": "Python 3",
   "language": "python",
   "name": "python3"
  },
  "language_info": {
   "codemirror_mode": {
    "name": "ipython",
    "version": 3
   },
   "file_extension": ".py",
   "mimetype": "text/x-python",
   "name": "python",
   "nbconvert_exporter": "python",
   "pygments_lexer": "ipython3",
   "version": "3.12.2"
  }
 },
 "nbformat": 4,
 "nbformat_minor": 2
}
