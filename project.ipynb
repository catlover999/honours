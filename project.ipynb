{
 "cells": [
  {
   "cell_type": "markdown",
   "metadata": {},
   "source": [
    "# Evaluation code for filter_dp"
   ]
  },
  {
   "cell_type": "code",
   "execution_count": null,
   "metadata": {},
   "outputs": [],
   "source": [
    "import pandas as pd\n",
    "import numpy as np\n",
    "import matplotlib.pyplot as plt\n",
    "# import opendp as dp"
   ]
  },
  {
   "cell_type": "markdown",
   "metadata": {},
   "source": [
    "Load and clean dataset"
   ]
  },
  {
   "cell_type": "code",
   "execution_count": null,
   "metadata": {},
   "outputs": [],
   "source": [
    "# Load input datasets\n",
    "input_salaries = pd.read_csv('input/EmployeeSalaries.csv', names=[\"Department\",\"Department_Name\",\"Division\",\"Gender\",\"Base_Salary\",\"Overtime_Pay\",\"Longevity_Pay\",\"Grade\"])\n",
    "input_students = pd.read_csv('input/StudentsPerformance.csv', names=[\"gender\",\"race_ethnicity\",\"parental_education\",\"lunch\",\"test_preparation\",\"math_score\",\"reading_score\",\"writing_score\"])\n",
    "\n",
    "# Load output datasets\n",
    "output_salaries = pd.read_csv('output/EmployeeSalaries.perturbed.csv')\n",
    "output_students = pd.read_csv('output/StudentsPerformance.perturbed.csv')"
   ]
  },
  {
   "cell_type": "code",
   "execution_count": null,
   "metadata": {},
   "outputs": [],
   "source": [
    "# Remove additional first column from output datasets\n",
    "output_salaries = output_salaries.iloc[:, 1:]\n",
    "output_students = output_students.iloc[:, 1:]\n",
    "\n",
    "# Remove the last line from the \"student\" output file\n",
    "output_students = output_students[~output_students.apply(lambda x: x.astype(str).str.contains('Quit').any(), axis=1)]\n",
    "\n",
    "# Extract relevant columns\n",
    "input_salaries_base = input_salaries['Base_Salary'].astype(float)\n",
    "output_salaries_base = output_salaries['Base_Salary'].astype(float)\n",
    "\n",
    "input_students_scores = input_students[['math_score', 'reading_score', 'writing_score']].astype(int)\n",
    "output_students_scores = output_students[['math_score', 'reading_score', 'writing_score']].astype(int)"
   ]
  },
  {
   "cell_type": "code",
   "execution_count": null,
   "metadata": {},
   "outputs": [],
   "source": [
    "# Salaries dataset analysis\n",
    "print(\"Salaries Dataset:\")\n",
    "print(\"Original Base_Salary - Mean: {:.2f}, Std: {:.2f}\".format(input_salaries_base.mean(), input_salaries_base.std()))\n",
    "print(\"Perturbed Base_Salary - Mean: {:.2f}, Std: {:.2f}\".format(output_salaries_base.mean(), output_salaries_base.std()))\n",
    "\n",
    "plt.figure(figsize=(8, 6))\n",
    "plt.hist(input_salaries_base, bins=20, alpha=0.5, label='Original')\n",
    "plt.hist(output_salaries_base, bins=20, alpha=0.5, label='Perturbed')\n",
    "plt.xlabel('Base_Salary')\n",
    "plt.ylabel('Frequency')\n",
    "plt.legend()\n",
    "plt.show()\n",
    "\n",
    "# Students dataset analysis\n",
    "print(\"\\nStudents Dataset:\")\n",
    "for score in ['math_score', 'reading_score', 'writing_score']:\n",
    "    print(\"Original {} - Mean: {:.2f}, Std: {:.2f}\".format(score, input_students_scores[score].mean(), input_students_scores[score].std()))\n",
    "    print(\"Perturbed {} - Mean: {:.2f}, Std: {:.2f}\".format(score, output_students_scores[score].mean(), output_students_scores[score].std()))\n",
    "\n",
    "plt.figure(figsize=(8, 6))\n",
    "for score in ['math_score', 'reading_score', 'writing_score']:\n",
    "    plt.hist(input_students_scores[score], bins=20, alpha=0.5, label='Original ' + score)\n",
    "    plt.hist(output_students_scores[score], bins=20, alpha=0.5, label='Perturbed ' + score)\n",
    "plt.xlabel('Score')\n",
    "plt.ylabel('Frequency')\n",
    "plt.legend()\n",
    "plt.show()\n"
   ]
  }
 ],
 "metadata": {
  "kernelspec": {
   "display_name": "Python 3",
   "language": "python",
   "name": "python3"
  },
  "language_info": {
   "codemirror_mode": {
    "name": "ipython",
    "version": 3
   },
   "file_extension": ".py",
   "mimetype": "text/x-python",
   "name": "python",
   "nbconvert_exporter": "python",
   "pygments_lexer": "ipython3",
   "version": "3.12.2"
  }
 },
 "nbformat": 4,
 "nbformat_minor": 2
}
